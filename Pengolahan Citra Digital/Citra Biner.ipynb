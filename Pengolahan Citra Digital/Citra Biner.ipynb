{
 "cells": [
  {
   "cell_type": "code",
   "execution_count": 20,
   "metadata": {},
   "outputs": [],
   "source": [
    "# Nama : Lailatul Magfiroh\n",
    "# NIM : 21051204023\n",
    "# Kelas : 2021 A\n",
    "# Prodi : S1 Teknik Informatika\n",
    "# MK : Pengolahan Citra Digital"
   ]
  },
  {
   "cell_type": "code",
   "execution_count": 21,
   "metadata": {},
   "outputs": [],
   "source": [
    "import numpy as np\n",
    "import cv2\n",
    "import matplotlib.pyplot as plt"
   ]
  },
  {
   "cell_type": "code",
   "execution_count": 22,
   "metadata": {},
   "outputs": [],
   "source": [
    "# citra biner\n",
    "citra = np.array([[0, 0, 0, 0, 0, 0, 0, 0, 0, 0],\n",
    "                 [0, 0, 0, 0, 0, 0, 0, 0, 0, 0],\n",
    "                 [0, 0, 1, 1, 0, 0, 1, 0, 0, 0],\n",
    "                 [0, 0, 0, 1, 1, 1, 1, 1, 0, 0],\n",
    "                 [0, 0, 1, 1, 1, 1, 1, 0, 0, 0],\n",
    "                 [0, 0, 1, 1, 1, 1, 0, 0, 0, 0],\n",
    "                 [0, 0, 1, 1, 1, 1, 1, 0, 0, 0],\n",
    "                 [0, 0, 0, 1, 1, 1, 1, 0, 0, 0],\n",
    "                 [0, 0, 0, 0, 0, 0, 0, 0, 0, 0],\n",
    "                 [0, 0, 0, 0, 0, 0, 0, 0, 0, 0]], dtype=np.uint8)\n",
    "se = np.uint8([1, 1, 1, 1, 1, 1, 1, 1, 1]).reshape((3,3))"
   ]
  },
  {
   "cell_type": "code",
   "execution_count": 23,
   "metadata": {},
   "outputs": [],
   "source": [
    "dilasi = cv2.dilate(citra, se)\n",
    "erosi = cv2.erode(citra, se)\n",
    "closed = cv2.morphologyEx(citra, cv2.MORPH_CLOSE, se)\n",
    "opened = cv2.morphologyEx(citra, cv2.MORPH_OPEN, se)"
   ]
  },
  {
   "cell_type": "code",
   "execution_count": 24,
   "metadata": {},
   "outputs": [
    {
     "data": {
      "text/plain": [
       "Text(0.5, 1.0, 'Hasil Citra Biner')"
      ]
     },
     "execution_count": 24,
     "metadata": {},
     "output_type": "execute_result"
    },
    {
     "data": {
      "image/png": "[encoded data removed]",
      "text/plain": [
       "<Figure size 432x288 with 1 Axes>"
      ]
     },
     "metadata": {
      "needs_background": "light"
     },
     "output_type": "display_data"
    }
   ],
   "source": [
    "# menampilkan citra\n",
    "plt.imshow(citra)\n",
    "plt.title('Hasil Citra Biner')"
   ]
  },
  {
   "cell_type": "code",
   "execution_count": 25,
   "metadata": {},
   "outputs": [
    {
     "data": {
      "image/png": "[encoded data removed]",
      "text/plain": [
       "<Figure size 720x720 with 4 Axes>"
      ]
     },
     "metadata": {
      "needs_background": "light"
     },
     "output_type": "display_data"
    }
   ],
   "source": [
    "# menampilkan citra hasil morfologi\n",
    "fig, ax = plt.subplots(2, 2, figsize=(10, 10))\n",
    "\n",
    "ax[0, 0].imshow(dilasi)\n",
    "ax[0, 0].set_title('Dilasi')\n",
    "\n",
    "ax[0, 1].imshow(erosi)\n",
    "ax[0, 1].set_title('Erosi')\n",
    "\n",
    "ax[1, 0].imshow(closed)\n",
    "ax[1, 0].set_title('Closing')\n",
    "\n",
    "ax[1, 1].imshow(opened)\n",
    "ax[1, 1].set_title('Opening')\n",
    "\n",
    "plt.show()"
   ]
  }
 ],
 "metadata": {
  "kernelspec": {
   "display_name": "Python 3",
   "language": "python",
   "name": "python3"
  },
  "language_info": {
   "codemirror_mode": {
    "name": "ipython",
    "version": 3
   },
   "file_extension": ".py",
   "mimetype": "text/x-python",
   "name": "python",
   "nbconvert_exporter": "python",
   "pygments_lexer": "ipython3",
   "version": "3.8.5"
  }
 },
 "nbformat": 4,
 "nbformat_minor": 4
}
